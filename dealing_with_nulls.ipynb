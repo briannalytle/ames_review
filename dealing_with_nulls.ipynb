{
 "cells": [
  {
   "cell_type": "code",
   "execution_count": 2,
   "id": "63f3afd8",
   "metadata": {},
   "outputs": [],
   "source": [
    "import numpy as np\n",
    "import pandas as pd\n",
    "import matplotlib.pyplot as plt\n",
    "import seaborn as sns\n",
    "%matplotlib inline\n",
    "import plotly.express as px"
   ]
  },
  {
   "cell_type": "code",
   "execution_count": 5,
   "id": "b898b872",
   "metadata": {},
   "outputs": [],
   "source": [
    "data = pd.read_csv('data/train.csv')"
   ]
  },
  {
   "cell_type": "markdown",
   "id": "8b6a0f98",
   "metadata": {},
   "source": [
    "# Import and separate input vs target"
   ]
  },
  {
   "cell_type": "code",
   "execution_count": 4,
   "id": "3e0753b5",
   "metadata": {},
   "outputs": [],
   "source": [
    "# Identify the input columns (a list of column names - not including ID or Sale Price)\n",
    "input_cols = ['MSSubClass', 'MSZoning', 'LotFrontage', 'LotArea', 'Street',\n",
    "       'Alley', 'LotShape', 'LandContour', 'Utilities', 'LotConfig',\n",
    "       'LandSlope', 'Neighborhood', 'Condition1', 'Condition2', 'BldgType',\n",
    "       'HouseStyle', 'OverallQual', 'OverallCond', 'YearBuilt', 'YearRemodAdd',\n",
    "       'RoofStyle', 'RoofMatl', 'Exterior1st', 'Exterior2nd', 'MasVnrType',\n",
    "       'MasVnrArea', 'ExterQual', 'ExterCond', 'Foundation', 'BsmtQual',\n",
    "       'BsmtCond', 'BsmtExposure', 'BsmtFinType1', 'BsmtFinSF1',\n",
    "       'BsmtFinType2', 'BsmtFinSF2', 'BsmtUnfSF', 'TotalBsmtSF', 'Heating',\n",
    "       'HeatingQC', 'CentralAir', 'Electrical', '1stFlrSF', '2ndFlrSF',\n",
    "       'LowQualFinSF', 'GrLivArea', 'BsmtFullBath', 'BsmtHalfBath', 'FullBath',\n",
    "       'HalfBath', 'BedroomAbvGr', 'KitchenAbvGr', 'KitchenQual',\n",
    "       'TotRmsAbvGrd', 'Functional', 'Fireplaces', 'FireplaceQu', 'GarageType',\n",
    "       'GarageYrBlt', 'GarageFinish', 'GarageCars', 'GarageArea', 'GarageQual',\n",
    "       'GarageCond', 'PavedDrive', 'WoodDeckSF', 'OpenPorchSF',\n",
    "       'EnclosedPorch', '3SsnPorch', 'ScreenPorch', 'PoolArea', 'PoolQC',\n",
    "       'Fence', 'MiscFeature', 'MiscVal', 'MoSold', 'YrSold', 'SaleType',\n",
    "       'SaleCondition']\n",
    "# Identify the name of the target column (a single string, not a list)\n",
    "target_col = 'SalePrice'"
   ]
  },
  {
   "cell_type": "code",
   "execution_count": 6,
   "id": "e46ed701",
   "metadata": {},
   "outputs": [],
   "source": [
    "#make a copy of input - keep your notebook clean\n",
    "inputs = data[input_cols].copy()\n",
    "targets = data[target_col]"
   ]
  },
  {
   "cell_type": "code",
   "execution_count": 9,
   "id": "a7d7688a",
   "metadata": {},
   "outputs": [
    {
     "name": "stdout",
     "output_type": "stream",
     "text": [
      "Number of categorical variables with NA:  16\n",
      "Number of numerical variables with NA:  3\n"
     ]
    }
   ],
   "source": [
    "categorical_cols = [var for var in data.columns if data[var].dtype == 'O']\n",
    "numerical_cols = [var for var in data.columns if var not in categorical_cols and var != 'SalePrice']\n",
    "\n",
    "vars_missing = [var for var in data.columns if data[var].isnull().sum() > 0]\n",
    "\n",
    "categorical_na = [var for var in categorical_cols if var in vars_missing]\n",
    "numerical_na = [var for var in numerical_cols if var in vars_missing]\n",
    "\n",
    "print('Number of categorical variables with NA: ', len(categorical_na))\n",
    "print('Number of numerical variables with NA: ', len(numerical_na))"
   ]
  },
  {
   "cell_type": "code",
   "execution_count": 10,
   "id": "f8df891a",
   "metadata": {},
   "outputs": [
    {
     "data": {
      "text/plain": [
       "<matplotlib.lines.Line2D at 0x1d007dfa850>"
      ]
     },
     "execution_count": 10,
     "metadata": {},
     "output_type": "execute_result"
    },
    {
     "data": {
      "image/png": "[encoded data removed]",
      "text/plain": [
       "<Figure size 864x288 with 1 Axes>"
      ]
     },
     "metadata": {
      "needs_background": "light"
     },
     "output_type": "display_data"
    }
   ],
   "source": [
    "data[vars_missing].isnull().mean().sort_values(ascending = False).plot.bar(figsize = (12,4))\n",
    "plt.ylabel('Percentage of missing data')\n",
    "plt.title('Missing data frome Ames Dataset')\n",
    "plt.axhline(0.9, color = 'red', linestyle = '-')\n",
    "plt.axhline(0.8, color = 'green', linestyle = '--')"
   ]
  },
  {
   "cell_type": "markdown",
   "id": "71d1acc3",
   "metadata": {},
   "source": [
    "# Drop the first 4 -over 80% null"
   ]
  },
  {
   "cell_type": "code",
   "execution_count": null,
   "id": "e407fcc0",
   "metadata": {},
   "outputs": [],
   "source": []
  }
 ],
 "metadata": {
  "kernelspec": {
   "display_name": "Python 3 (ipykernel)",
   "language": "python",
   "name": "python3"
  },
  "language_info": {
   "codemirror_mode": {
    "name": "ipython",
    "version": 3
   },
   "file_extension": ".py",
   "mimetype": "text/x-python",
   "name": "python",
   "nbconvert_exporter": "python",
   "pygments_lexer": "ipython3",
   "version": "3.9.12"
  }
 },
 "nbformat": 4,
 "nbformat_minor": 5
}
